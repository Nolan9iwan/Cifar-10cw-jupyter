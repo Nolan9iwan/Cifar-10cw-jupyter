{
  "nbformat": 4,
  "nbformat_minor": 0,
  "metadata": {
    "colab": {
      "provenance": [],
      "authorship_tag": "ABX9TyMT5b3uJe4QKTBdQODLP865",
      "include_colab_link": true
    },
    "kernelspec": {
      "name": "python3",
      "display_name": "Python 3"
    },
    "language_info": {
      "name": "python"
    }
  },
  "cells": [
    {
      "cell_type": "markdown",
      "metadata": {
        "id": "view-in-github",
        "colab_type": "text"
      },
      "source": [
        "<a href=\"https://colab.research.google.com/github/Nolan9iwan/Cifar-10cw-jupyter/blob/main/cifar10_pipeline_up2211370.ipynb\" target=\"_parent\"><img src=\"https://colab.research.google.com/assets/colab-badge.svg\" alt=\"Open In Colab\"/></a>"
      ]
    },
    {
      "cell_type": "markdown",
      "source": [],
      "metadata": {
        "id": "holmREQ5kVEN"
      }
    },
    {
      "cell_type": "code",
      "source": [
        "from tensorflow.keras.datasets import cifar10\n",
        "import matplotlib.pyplot as plt\n",
        "import numpy as np\n",
        "import seaborn as sns\n",
        "\n",
        "# Load dataset\n",
        "(x_train, y_train), (x_test, y_test) = cifar10.load_data()\n",
        "\n",
        "# Class names\n",
        "Class_names = ['airplane', 'automobile', 'bird', 'cat', 'deer', 'dog', 'frog', 'horse', 'ship', 'truck']\n",
        "\n",
        "# Print examples\n",
        "print(\"Example labels and their class names:\")\n",
        "for i in range(10):\n",
        "    label = y_train[i][0]\n",
        "    print(\"Label:\", label, \"->\", Class_names[label])\n",
        "\n",
        "# Show 9 images from the training set\n",
        "plt.figure(figsize=(9, 9))\n",
        "for i in range(9):\n",
        "    plt.subplot(3, 3, i+1)\n",
        "    plt.imshow(x_train[i])\n",
        "    plt.title(Class_names[y_train[i][0]])\n",
        "    plt.axis('off')\n",
        "plt.tight_layout()\n",
        "plt.show()\n",
        "\n",
        "# Images per class\n",
        "counts = np.bincount(y_train.flatten())\n",
        "\n",
        "# Plot bar chart\n",
        "plt.figure(figsize=(8, 4))\n",
        "sns.barplot(x=Class_names, y=counts)\n",
        "plt.title(\"How many images per class (Training set)\")\n",
        "plt.ylabel(\"Number\")\n",
        "plt.xticks(rotation=45)\n",
        "plt.tight_layout()\n",
        "plt.show()"
      ],
      "metadata": {
        "id": "NnlaVzZZm8gM"
      },
      "execution_count": null,
      "outputs": []
    }
  ]
}